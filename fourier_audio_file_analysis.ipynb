{
 "cells": [
  {
   "cell_type": "markdown",
   "id": "828077d0",
   "metadata": {},
   "source": [
    "# Creation of an audio file with self-specified frequencies & intuition for the mathematical Fourier transform"
   ]
  },
  {
   "cell_type": "markdown",
   "id": "f1a1a159",
   "metadata": {},
   "source": [
    "##### Johannes Bahrenberg, 28.11.2023"
   ]
  },
  {
   "cell_type": "code",
   "execution_count": 7,
   "id": "aa11f808",
   "metadata": {},
   "outputs": [],
   "source": [
    "# Standard libraries\n",
    "import numpy as np\n",
    "import matplotlib.pyplot as plt\n",
    "\n",
    "# Slider for plots\n",
    "from matplotlib.widgets import Slider\n",
    "\n",
    "# Integration\n",
    "from scipy import integrate\n",
    "\n",
    "# Write audio file\n",
    "from scipy.io.wavfile import write"
   ]
  },
  {
   "cell_type": "code",
   "execution_count": 8,
   "id": "877fd65f",
   "metadata": {},
   "outputs": [],
   "source": [
    "samplerate = 44100    # samples / second"
   ]
  },
  {
   "cell_type": "code",
   "execution_count": 9,
   "id": "d8f43cc6",
   "metadata": {},
   "outputs": [],
   "source": [
    "# Create random frequencies between 300 and 3700\n",
    "#fs = np.floor(3700 * np.random.rand(nnumbers) + 300)\n",
    "#fs = fs//10 * 10\n",
    "\n",
    "# ALTERNATIVE:\n",
    "# Create array of frequencies (best between 300 and 4000)\n",
    "fs = np.array([400, 1100])\n",
    "\n",
    "# Set time\n",
    "tmax = 5   # length in seconds\n",
    "t = np.linspace(0., tmax, tmax*samplerate)"
   ]
  },
  {
   "cell_type": "code",
   "execution_count": 10,
   "id": "21d0688c",
   "metadata": {},
   "outputs": [],
   "source": [
    "# Create sound wave (=overlap of distinct freq. with same amplitude)\n",
    "amplitude = np.iinfo(np.int16).max\n",
    "\n",
    "data = np.zeros_like(t)\n",
    "for f in fs:\n",
    "    data += amplitude * np.cos(2. * np.pi * f * t)\n",
    "data /= len(fs)\n",
    "\n",
    "# Save file\n",
    "write('soundwave.wav', samplerate, data.astype(np.int16))"
   ]
  },
  {
   "cell_type": "code",
   "execution_count": 11,
   "id": "835f9254",
   "metadata": {},
   "outputs": [],
   "source": [
    "def cosinus(f):\n",
    "    '''Cosinus with frequency f.\n",
    "    \n",
    "    Note: t is a global variable (array) that defines the\n",
    "    times at which the signal is recorded.\n",
    "    Note: datamaxplot is a global variable that defines\n",
    "    the index up to which the signal is depicted.\n",
    "    '''\n",
    "    return np.cos(2. * np.pi * f * t[:datamaxplot])\n",
    "\n",
    "def integrand(t, f):\n",
    "    '''The cos() part in the integrand. '''\n",
    "    return np.cos(2. * np.pi * f * t)"
   ]
  },
  {
   "cell_type": "code",
   "execution_count": 13,
   "id": "4fdb069d",
   "metadata": {},
   "outputs": [],
   "source": [
    "%matplotlib qt\n",
    "\n",
    "# Global variable for max. index (we don't plot the whole time interval)\n",
    "datamaxplot = 1000\n",
    "\n",
    "fig, ax = plt.subplots(2,1,figsize=(15,15))\n",
    "\n",
    "# Investigate amplitude graph, i.e. air pressure wrt. time\n",
    "ax[0].plot(t[:datamaxplot], data[:datamaxplot], color='0.2', label='signal')\n",
    "ax[0].hlines(0, 0, t[datamaxplot], ls='--', color='black')\n",
    "ax[0].set_title(f'Original signal\\nFrequencies: {np.sort(fs)} Hz')\n",
    "\n",
    "finit = 1000    # Initial frequency\n",
    "p1, = ax[1].plot(t[:datamaxplot], integrand(t, finit)[:datamaxplot], \n",
    "        color = 'red', alpha=0.8)\n",
    "p2, = ax[1].plot(t[:datamaxplot], amplitude * np.cos(2. * np.pi * finit * t[:datamaxplot]), \n",
    "        ls=':', color='red', alpha=0.6)\n",
    "ax[1].hlines(0, 0, t[datamaxplot], ls='--', color='black')\n",
    "ax[1].set_xlabel('t [s]')\n",
    "ax[1].set_ylabel('amplitude')\n",
    "time_text = ax[1].text(0., -30000, r'$\\int_{t}dt \\; f(t) \\, cos(ft)$', fontsize=20, color='black')\n",
    "attention_text = ax[1].text(0.008, -30000, '', fontsize=30, color='red')\n",
    "time_text.set_bbox(dict(facecolor='white', edgecolor='black'))\n",
    "attention_text.set_bbox(dict(facecolor='white', edgecolor='black'))\n",
    "\n",
    "# make space for slider\n",
    "plt.subplots_adjust(bottom=0.2)\n",
    "\n",
    "# slider position\n",
    "ax_slider = plt.axes([0.2, 0.1, 0.6, 0.02])    # xstart, ystart, xwidth, ywidth\n",
    "\n",
    "# slider\n",
    "slide = Slider(ax_slider, label='frequency f', valmin=300, valmax=3000, valinit=finit, valstep=10)\n",
    "\n",
    "def update(val):\n",
    "    # get current a factor\n",
    "    current_f = slide.val\n",
    "    \n",
    "    # compute integral \n",
    "    integral = integrate.simpson(data[:10*datamaxplot]*integrand(t[:10*datamaxplot], current_f), t[:10*datamaxplot])\n",
    "    \n",
    "    # display integral solution\n",
    "    time_text.set_text(f'$\\int_{{t}}dt \\; f(t) \\, cos(ft) =$ {integral:.2f}')\n",
    "    if np.isin(current_f, fs):\n",
    "        attention_text.set_text('!')    # if we hit the correct frequency\n",
    "    else:\n",
    "        attention_text.set_text('')\n",
    "    \n",
    "    # compute the function and set y data\n",
    "    function = cosinus(f=current_f)\n",
    "    p1.set_ydata(data[:datamaxplot] * function)\n",
    "    p2.set_ydata(amplitude * function)\n",
    "    fig.canvas.draw()\n",
    "\n",
    "# connect slider with update function\n",
    "slide.on_changed(update)\n",
    "\n",
    "plt.show()"
   ]
  }
 ],
 "metadata": {
  "kernelspec": {
   "display_name": "Python 3",
   "language": "python",
   "name": "python3"
  },
  "language_info": {
   "codemirror_mode": {
    "name": "ipython",
    "version": 3
   },
   "file_extension": ".py",
   "mimetype": "text/x-python",
   "name": "python",
   "nbconvert_exporter": "python",
   "pygments_lexer": "ipython3",
   "version": "3.8.8"
  }
 },
 "nbformat": 4,
 "nbformat_minor": 5
}
