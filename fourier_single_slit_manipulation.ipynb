{
 "cells": [
  {
   "cell_type": "markdown",
   "id": "625e5465",
   "metadata": {},
   "source": [
    "# Manipulation of the diffraction image and the effect onto the real image\n",
    "### + some code explanations"
   ]
  },
  {
   "cell_type": "markdown",
   "id": "4cd744d8",
   "metadata": {},
   "source": [
    "##### Johannes Bahrenberg, 28.11.2023"
   ]
  },
  {
   "cell_type": "markdown",
   "id": "d323ca78",
   "metadata": {},
   "source": [
    "--------------------------"
   ]
  },
  {
   "cell_type": "markdown",
   "id": "734e8787",
   "metadata": {},
   "source": [
    "###### Mathematik der Fouriertrafo des Einzelspalts"
   ]
  },
  {
   "cell_type": "markdown",
   "id": "3fe7bf69",
   "metadata": {},
   "source": [
    "Das Beugungsbild $F(k_y)$ ist die _Fouriertransformierte_ des Spalts $f(y)$:\n",
    "\n",
    "$F(k_y) = \\int_{-\\infty}^{\\infty}{dy f(y) e}^{-ik_yy} = ... = d \\frac{\\sin(k_y d/2)}{k_y d/2}$\n",
    "\n",
    "Das vollständige Spaltbild erhält man wieder durch _Rücktransformation_:\n",
    "\n",
    "$f(y) = \\frac{1}{2 \\pi} \\int_{-\\infty}^{\\infty} dk_y F(k_y) e^{ik_y y} = \\frac{1}{2 \\pi} \\int_{-\\infty}^{\\infty} dk_y F(k_y) [\\cos(k_y y) + i \\sin(k_y y)] = \\frac{1}{2 \\pi} \\int_{-\\infty}^{\\infty} dk_y F(k_y) \\cos(k_y y) + \\text{Im(..)}$\n",
    "\n",
    "Wegen _Symmetrie_ kann das Integral auch im Intervall $[0, \\infty]$ ausgewertet werden. Faktor $2$ dann nicht vergessen! Mit Einsetzen von $F(k_y)$ ergibt sich:\n",
    "\n",
    "$f(y) = \\frac{d}{\\pi} \\int_{0}^{\\infty} dk_y \\frac{\\sin(k_y d/2)}{k_y d/2} \\cos(k_y y) + \\text{Im(..)} $\n",
    "\n",
    "Bei Integration im Intervall $[0, k_{y,n}]$ mit $k_{y,n} = 2 \\pi n / d$ ergibt sich ein _unvollständiges Spaltbild_. Hier ist $n$ das Minimum in der Beugungsfunktion $F(k_y)$, bis zu dem integriert wird (größte Frequenz, die zugelassen wird)."
   ]
  },
  {
   "cell_type": "code",
   "execution_count": 2,
   "id": "786640be",
   "metadata": {},
   "outputs": [],
   "source": [
    "# Standard libraries\n",
    "import numpy as np\n",
    "import matplotlib.pyplot as plt\n",
    "\n",
    "# Slider for plots\n",
    "from matplotlib.widgets import Slider\n",
    "\n",
    "# Integration\n",
    "from scipy.integrate import quad\n",
    "\n",
    "# Write audio file\n",
    "from scipy.io.wavfile import write"
   ]
  },
  {
   "cell_type": "code",
   "execution_count": 3,
   "id": "6f82f4a2",
   "metadata": {},
   "outputs": [],
   "source": [
    "def F(k):\n",
    "    '''Fouriertrafo Einzelspalt.'''\n",
    "    return D * np.sin(k*D/2) / (k*D/2)"
   ]
  },
  {
   "cell_type": "code",
   "execution_count": 4,
   "id": "60f53a52",
   "metadata": {},
   "outputs": [],
   "source": [
    "def integrand_back_transform(k, y):    # heißt im Skript 'spalt', aber diesen Namen finde ich anschaulicher\n",
    "    '''\n",
    "    Integrand für Rücktrafo nach f(y) für Einzelspalt.\n",
    "    \n",
    "    ERKLÄRUNG\n",
    "    Wichtig für die scipy.quad() Funktion: Der erste Parameter, k, ist\n",
    "    die Variable, über die wir integrieren bei der Rücktransformation\n",
    "    nach f(y) (siehe oben). Wir integrieren über k im Intervall [0, x]\n",
    "    = [0, 2*pi*n/D].\n",
    "    \n",
    "    Der zweite Paramter, y, spiegelt den Ort im realen Raum wieder. \n",
    "    Diesen halten wir bei der Berechnung des Integrals fest. D.h. wenn\n",
    "    wir die Spaltfunktion an irgendeinem Ort y_0 berechnen, berechnen \n",
    "    wir f(y_0). Das müssen wir für alle Orte y_0 aus [-D, D] machen,\n",
    "    daher die for-loop unten.\n",
    "    '''  \n",
    "    return D/np.pi * np.sin(k*D/2) / (k*D/2) * np.cos(y*k)"
   ]
  },
  {
   "cell_type": "code",
   "execution_count": 5,
   "id": "f4d4581a",
   "metadata": {},
   "outputs": [],
   "source": [
    "def f_mod(n):\n",
    "    D = 1    # Spaltbreite, HINWEIS: Konstanten schreibt man mit capslock\n",
    "    y = np.linspace(-1, 1, 200) * D    # Definitionsbereich\n",
    "    y_length = len(y)\n",
    "    \n",
    "    # compute image with frequencies from 0 to k_n = 2*pi*n/D\n",
    "    f_modifiziert = np.zeros(y_length)    # pre-allocation, HINWEIS: Erläuterung siehe unten\n",
    "    x = 2 * np.pi * n / D\n",
    "\n",
    "    for i in range(y_length):\n",
    "        #\n",
    "        # ERKLÄRUNG scipy.quad():\n",
    "        #\n",
    "        # Argument 1: Die Funktion, über die wir integrieren. \n",
    "        # Argument 2 und 3: Integrationsgrenzen\n",
    "        # Argument 4: Der aktuelle Ort y_0, für den wir f(y_0) berechnen.\n",
    "        # Hinweis:  y[i] ist einfach nur eine Zahl. Da das Argument als Tupel\n",
    "        # übergeben werden muss hier, schreiben wir (y[i],). Das ist die \n",
    "        # Schreibweise für ein Tupel mit einem Element.\n",
    "        #\n",
    "        result, error = quad(integrand_back_transform, 0, x, args = (y[i],))\n",
    "        f_modifiziert[i] = result**2\n",
    "\n",
    "    # normalize to 1\n",
    "    f_modifiziert_norm = f_modifiziert / np.max(f_modifiziert)\n",
    "    \n",
    "    return f_modifiziert_norm"
   ]
  },
  {
   "cell_type": "code",
   "execution_count": 6,
   "id": "d4b2179e",
   "metadata": {},
   "outputs": [],
   "source": [
    "%matplotlib qt\n",
    "\n",
    "#\n",
    "# Einzelspalt\n",
    "#\n",
    "\n",
    "# general setup\n",
    "D = 1.    # slid width\n",
    "ninit = 10    # initial minimum taken\n",
    "y = np.linspace(-1,1,200) * D\n",
    "kmax = 60\n",
    "k = np.linspace(-kmax, kmax, 200)\n",
    "x = 2 * np.pi * ninit / D\n",
    "\n",
    "fig, ax = plt.subplots(1,2,figsize=(14,5))\n",
    "\n",
    "# make space for slider\n",
    "plt.subplots_adjust(bottom=0.25)\n",
    "\n",
    "# slider position\n",
    "ax_slider = plt.axes([0.2, 0.1, 0.6, 0.05])    # xstart, ystart, xwidth, ywidth\n",
    "\n",
    "# slider\n",
    "slide = Slider(ax_slider, label='#Minima', valmin=1, valmax=10, valinit=ninit, valstep=1)\n",
    "\n",
    "# plots\n",
    "ax[0].plot(k, F(k), label=r'$F(k_y)$')\n",
    "ax[0].plot(k, F(k)**2, label=r'$F^2(k_y) \\sim I(x) $')\n",
    "ax[0].set_xlabel('k')\n",
    "ax[0].set_ylabel(r'$F$ und $F^2$')\n",
    "ax[0].hlines(0, -kmax, kmax, colors='0.0', ls='--')\n",
    "wall_left = ax[0].axvspan(-kmax, -x, alpha=0.2, color='black', label='Blockiertes\\nLicht')\n",
    "wall_right = ax[0].axvspan(x, kmax, alpha=0.2, color='black')\n",
    "ax[0].set_xlim(-kmax, kmax)\n",
    "ax[0].legend()\n",
    "\n",
    "p, = ax[1].plot(y, f_mod(ninit))\n",
    "ax[1].set_xlabel('y / d')\n",
    "ax[1].set_ylabel('Intensitaet / b.E.')\n",
    "ax[1].set_title(f'Modifiziertes Objektbild des Einzelspalts')\n",
    "ax[1].set_ylim((0,1.1))\n",
    "\n",
    "\n",
    "def update(val):\n",
    "    # get current a factor\n",
    "    current_n = slide.val\n",
    "    # compute the function and set y data\n",
    "    function = f_mod(n=current_n)\n",
    "    current_x = 2 * np.pi * current_n / D\n",
    "    wall_left.set_xy([[-kmax, 0], [-kmax, 1], [-current_x, 1], [-current_x, 0], [-kmax, 0]])\n",
    "    wall_right.set_xy([[current_x, 0], [current_x, 1], [kmax, 1], [kmax, 0], [current_x, 0]])\n",
    "    p.set_ydata(function)\n",
    "    fig.canvas.draw()\n",
    "    \n",
    "# connect slider with update function\n",
    "slide.on_changed(update)\n",
    "\n",
    "plt.show()"
   ]
  },
  {
   "cell_type": "markdown",
   "id": "f09f08e9",
   "metadata": {},
   "source": []
  }
 ],
 "metadata": {
  "kernelspec": {
   "display_name": "Python 3",
   "language": "python",
   "name": "python3"
  },
  "language_info": {
   "codemirror_mode": {
    "name": "ipython",
    "version": 3
   },
   "file_extension": ".py",
   "mimetype": "text/x-python",
   "name": "python",
   "nbconvert_exporter": "python",
   "pygments_lexer": "ipython3",
   "version": "3.8.8"
  }
 },
 "nbformat": 4,
 "nbformat_minor": 5
}
